{
  "nbformat": 4,
  "nbformat_minor": 0,
  "metadata": {
    "colab": {
      "provenance": [],
      "collapsed_sections": []
    },
    "kernelspec": {
      "name": "python3",
      "display_name": "Python 3"
    },
    "language_info": {
      "name": "python"
    }
  },
  "cells": [
    {
      "cell_type": "markdown",
      "source": [],
      "metadata": {
        "id": "311ftT_qP2Gv"
      }
    },
    {
      "cell_type": "markdown",
      "source": [
        "6 sept\n"
      ],
      "metadata": {
        "id": "z2s-dHAAP4Em"
      }
    },
    {
      "cell_type": "code",
      "execution_count": null,
      "metadata": {
        "colab": {
          "base_uri": "https://localhost:8080/"
        },
        "id": "S9EEKWOeD2BP",
        "outputId": "9cc9653e-0c81-482d-d5ed-842ba6c0f91a"
      },
      "outputs": [
        {
          "output_type": "stream",
          "name": "stdout",
          "text": [
            "range(11, 0)\n"
          ]
        }
      ],
      "source": [
        "s=\"Hello World\"\n",
        "start= len(s) -1 \n",
        "stop=-1\n",
        "step=-1\n",
        "for index in range (start,stop,step):\n",
        "  letter=txt[index]\n",
        "  print (\"the index is {} and letter is {}\".format(index,letter))\n",
        "\n"
      ]
    },
    {
      "cell_type": "code",
      "source": [
        "s=\"aeyi\"\n",
        "start=0\n",
        "stop=len(s)\n",
        "step=1\n",
        "for index in range (start,stop,step):\n",
        "  letter=s[index]\n",
        "  print (letter)\n",
        "  if letter == 'a':\n",
        "    print (\"vowel\")\n",
        "  elif letter == 'e':\n",
        "    print (\"vowel\")\n",
        "  elif letter == 'i':\n",
        "    print (\"vowel\")\n",
        "  elif letter == 'o':\n",
        "    print (\"vowel\")\n",
        "  elif letter == 'u':\n",
        "    print (\"vowel\")\n",
        "  else:\n",
        "      print (\"consonant\")\n",
        "\n",
        "\n",
        "\n"
      ],
      "metadata": {
        "colab": {
          "base_uri": "https://localhost:8080/"
        },
        "id": "fmheJAoGEUTZ",
        "outputId": "3b3e40da-3157-49ed-c8ee-786c91406edc"
      },
      "execution_count": null,
      "outputs": [
        {
          "output_type": "stream",
          "name": "stdout",
          "text": [
            "a\n",
            "vowel\n",
            "e\n",
            "vowel\n",
            "y\n",
            "consonant\n",
            "i\n",
            "vowel\n"
          ]
        }
      ]
    },
    {
      "cell_type": "code",
      "source": [],
      "metadata": {
        "id": "JxuEL5zIK1SR"
      },
      "execution_count": null,
      "outputs": []
    },
    {
      "cell_type": "code",
      "source": [
        "s=\"aeyi\"\n",
        "start=0\n",
        "stop=len(s)\n",
        "step=1\n",
        "for index in range (start,stop,step):\n",
        "  letter=s[index]\n",
        "  if letter =='a' or letter =='e' or letter =='i' or letter =='o' or letter =='u':\n",
        "      print (\"{} = vowel\",format(letter))\n",
        "  else: \n",
        "       print (\"{} = consonant\", format (letter))"
      ],
      "metadata": {
        "colab": {
          "base_uri": "https://localhost:8080/"
        },
        "id": "yI35FBtBJDUi",
        "outputId": "bacbb83d-5ee5-43bf-ee18-afefdecf5b05"
      },
      "execution_count": null,
      "outputs": [
        {
          "output_type": "stream",
          "name": "stdout",
          "text": [
            "{} = vowel a\n"
          ]
        }
      ]
    },
    {
      "cell_type": "code",
      "source": [
        "s = \"This is new class\"\n",
        "start=0\n",
        "stop=len(s)\n",
        "step=1\n",
        "for index in range (start,stop,step):\n",
        "  letter=s[index]\n",
        "  if letter =='a' or letter =='e' or letter =='i' or letter =='o' or letter =='u':\n",
        "      print (\"{} = vowel\".format(letter))\n",
        "  elif letter == \" \":\n",
        "      break   \n",
        "  else: \n",
        "       print (\"{} = consonant\".format (letter))\n"
      ],
      "metadata": {
        "colab": {
          "base_uri": "https://localhost:8080/"
        },
        "id": "rFudLhu0KfvK",
        "outputId": "4adca191-5369-4956-b86a-eed7e930653a"
      },
      "execution_count": null,
      "outputs": [
        {
          "output_type": "stream",
          "name": "stdout",
          "text": [
            "T = consonant\n",
            "h = consonant\n",
            "i = vowel\n",
            "s = consonant\n"
          ]
        }
      ]
    },
    {
      "cell_type": "markdown",
      "source": [
        "7 sept"
      ],
      "metadata": {
        "id": "6xJDbJuvPw9a"
      }
    },
    {
      "cell_type": "code",
      "source": [
        "txt=\"Hello World\"\n",
        "txt= txt.lower()\n",
        "consonant=0\n",
        "vowel=0\n",
        "for index in range (0, len(txt), 1):\n",
        "  letter=txt[index]\n",
        "  if letter=='a' or  letter=='e' or  letter=='i' or  letter=='o' or  letter=='u':\n",
        "    vowel=vowel+1\n",
        "  elif letter == \" \":\n",
        "    continue\n",
        "  else:\n",
        "    consonant=consonant+1\n",
        "print (\"Vowel count {}\". format(vowel))\n",
        "print (\"consonant count {}\". format(consonant))"
      ],
      "metadata": {
        "colab": {
          "base_uri": "https://localhost:8080/"
        },
        "id": "C7ovepCoItMc",
        "outputId": "7d6d9322-c51f-4432-8f72-41d546a27c4a"
      },
      "execution_count": null,
      "outputs": [
        {
          "output_type": "stream",
          "name": "stdout",
          "text": [
            "Vowel count 3\n",
            "consonant count 7\n"
          ]
        }
      ]
    },
    {
      "cell_type": "markdown",
      "source": [
        "Indexing\n"
      ],
      "metadata": {
        "id": "Rj1KMI1dLzZg"
      }
    },
    {
      "cell_type": "code",
      "source": [
        "txt = \"Hello World \"\n",
        "a=txt[0:8]\n",
        "b= txt + \"hh\"\n",
        "c= txt * 3\n",
        "print (a)\n",
        "print (b)\n",
        "print (c)"
      ],
      "metadata": {
        "colab": {
          "base_uri": "https://localhost:8080/"
        },
        "id": "03NfwegZL2v4",
        "outputId": "bb007ce4-2b2e-40d2-bea3-9956a5fa92ec"
      },
      "execution_count": null,
      "outputs": [
        {
          "output_type": "stream",
          "name": "stdout",
          "text": [
            "Hello Wo\n",
            "Hello World hh\n",
            "Hello World Hello World Hello World \n"
          ]
        }
      ]
    },
    {
      "cell_type": "markdown",
      "source": [
        "String operation in python"
      ],
      "metadata": {
        "id": "HR8yETvUOLHI"
      }
    },
    {
      "cell_type": "code",
      "source": [
        "name = \"de@\"\n",
        "name.replace(\"@\", \"a\")\n"
      ],
      "metadata": {
        "colab": {
          "base_uri": "https://localhost:8080/"
        },
        "id": "-wXsq4jqON32",
        "outputId": "5320e4ee-1386-46ad-9bb9-24d7bca45900"
      },
      "execution_count": null,
      "outputs": [
        {
          "output_type": "stream",
          "name": "stdout",
          "text": [
            "dea\n"
          ]
        }
      ]
    },
    {
      "cell_type": "markdown",
      "source": [
        ")"
      ],
      "metadata": {
        "id": "3gJmyz0nQ5fe"
      }
    },
    {
      "cell_type": "code",
      "source": [
        "txt = \"This will split all words\"\n",
        "txt.split(\"s\")"
      ],
      "metadata": {
        "colab": {
          "base_uri": "https://localhost:8080/"
        },
        "id": "0eRV0z3LRO_u",
        "outputId": "db432a00-e084-41ac-fa78-2ba031de5309"
      },
      "execution_count": null,
      "outputs": [
        {
          "output_type": "execute_result",
          "data": {
            "text/plain": [
              "['Thi', ' will ', 'plit all word', '']"
            ]
          },
          "metadata": {},
          "execution_count": 19
        }
      ]
    },
    {
      "cell_type": "code",
      "source": [
        "txt =\"I Like Orange Apple Banana and Kiwi.\"\n",
        "a= txt[7:26]\n",
        "c= txt[30:35]\n",
        "b=a +c \n",
        "b=b.lower()\n",
        "d=b.split(\" \")\n",
        "print(d)\n",
        "\n"
      ],
      "metadata": {
        "colab": {
          "base_uri": "https://localhost:8080/"
        },
        "id": "FTUapcVZRw7w",
        "outputId": "1700916e-fa73-47e9-ddb8-967a1e1bf9ef"
      },
      "execution_count": null,
      "outputs": [
        {
          "output_type": "stream",
          "name": "stdout",
          "text": [
            "['orange', 'apple', 'banana', 'kiwi']\n"
          ]
        }
      ]
    },
    {
      "cell_type": "markdown",
      "source": [
        "Replace"
      ],
      "metadata": {
        "id": "fqQa7-qGPnEj"
      }
    },
    {
      "cell_type": "code",
      "source": [
        "txt =\"I Like Orange Apple Banana and Kiwi.\"\n",
        "txt=txt.replace(\"Like \", \"\")\n",
        "print(txt)"
      ],
      "metadata": {
        "colab": {
          "base_uri": "https://localhost:8080/"
        },
        "id": "svIF0W4VPoj8",
        "outputId": "e43bd794-6933-4e20-d2ec-e79a27f60d83"
      },
      "execution_count": null,
      "outputs": [
        {
          "output_type": "stream",
          "name": "stdout",
          "text": [
            "I Orange Apple Banana and Kiwi.\n"
          ]
        }
      ]
    },
    {
      "cell_type": "markdown",
      "source": [
        "List"
      ],
      "metadata": {
        "id": "h_JRt_xWTVTk"
      }
    },
    {
      "cell_type": "code",
      "source": [
        "x=[\"aa\", \"bb\", \"cc\", \"dd\"]\n",
        "x[2]\n",
        "x[0:3]"
      ],
      "metadata": {
        "colab": {
          "base_uri": "https://localhost:8080/"
        },
        "id": "zdm12fiiTWfx",
        "outputId": "82f1df6d-dc61-40d2-c8ed-8cafc6cf28b8"
      },
      "execution_count": null,
      "outputs": [
        {
          "output_type": "execute_result",
          "data": {
            "text/plain": [
              "['aa', 'bb', 'cc']"
            ]
          },
          "metadata": {},
          "execution_count": 9
        }
      ]
    },
    {
      "cell_type": "code",
      "source": [
        "nums=[9,4,6,8,33]\n",
        "for index in range (len(nums)):\n",
        "    b=nums[index]\n",
        "    print(\" {} {} \". format(b,index))\n",
        "for i in nums:\n",
        "    print (i)\n"
      ],
      "metadata": {
        "colab": {
          "base_uri": "https://localhost:8080/"
        },
        "id": "TG7VzjsKWWjh",
        "outputId": "29dfafa1-f100-43d3-fab9-ffd5d5b36fc5"
      },
      "execution_count": null,
      "outputs": [
        {
          "output_type": "stream",
          "name": "stdout",
          "text": [
            " 9 0 \n",
            " 4 1 \n",
            " 6 2 \n",
            " 8 3 \n",
            " 33 4 \n",
            "9\n",
            "4\n",
            "6\n",
            "8\n",
            "33\n"
          ]
        }
      ]
    },
    {
      "cell_type": "code",
      "source": [],
      "metadata": {
        "id": "C0R0eNuDZTUH"
      },
      "execution_count": null,
      "outputs": []
    },
    {
      "cell_type": "markdown",
      "source": [
        "Mean calculation"
      ],
      "metadata": {
        "id": "RwcMHBuJZXSH"
      }
    },
    {
      "cell_type": "code",
      "source": [
        "nums=[1,2,3,4]\n",
        "total=0\n",
        "for item in nums:\n",
        "     total= total + item\n",
        "mean=total/len(nums)\n",
        "print(mean)\n",
        "   "
      ],
      "metadata": {
        "colab": {
          "base_uri": "https://localhost:8080/"
        },
        "id": "Rz-57IzHZcSo",
        "outputId": "79866b3d-afce-45c3-b68e-82109add94a8"
      },
      "execution_count": null,
      "outputs": [
        {
          "output_type": "stream",
          "name": "stdout",
          "text": [
            "2.5\n"
          ]
        }
      ]
    },
    {
      "cell_type": "markdown",
      "source": [
        "Negative indexing"
      ],
      "metadata": {
        "id": "6HFhcSQEcWR5"
      }
    },
    {
      "cell_type": "code",
      "source": [
        "nums=[1,2,3,4,5]\n",
        "nums[-1:-3]\n",
        "nums[0]=8\n",
        "nums[1:3]=[9,8]\n",
        "print(nums)"
      ],
      "metadata": {
        "colab": {
          "base_uri": "https://localhost:8080/"
        },
        "id": "ZTpMZlkxcY2U",
        "outputId": "66bfb35a-8b81-4e06-e389-7d46a4356c9f"
      },
      "execution_count": null,
      "outputs": [
        {
          "output_type": "stream",
          "name": "stdout",
          "text": [
            "[8, 9, 8, 4, 5]\n"
          ]
        }
      ]
    },
    {
      "cell_type": "markdown",
      "source": [
        "List methods\n"
      ],
      "metadata": {
        "id": "WSkF-FSu2XnZ"
      }
    },
    {
      "cell_type": "code",
      "source": [
        "cars= ['bmw', 'mercedes', 'audi', 'tesla']\n",
        "cars.insert(2, 'pagani')\n",
        "cars.append(\"honda\")\n",
        "cars=cars.append([\"lambo\", \"ford\"])\n",
        "print(cars)"
      ],
      "metadata": {
        "id": "l05yZTly2jIB"
      },
      "execution_count": null,
      "outputs": []
    },
    {
      "cell_type": "code",
      "source": [
        "cars= ['bmw', 'mercedes', 'audi', 'tesla', ['xx', 'yy']]\n",
        "cars[4][0:]"
      ],
      "metadata": {
        "colab": {
          "base_uri": "https://localhost:8080/"
        },
        "id": "FHAuqQDt4NpZ",
        "outputId": "763f77a9-0813-47df-d306-1fe4d3b159d5"
      },
      "execution_count": null,
      "outputs": [
        {
          "output_type": "execute_result",
          "data": {
            "text/plain": [
              "['xx', 'yy']"
            ]
          },
          "metadata": {},
          "execution_count": 24
        }
      ]
    },
    {
      "cell_type": "markdown",
      "source": [
        "STACK AND QUEUE IN PYTHON"
      ],
      "metadata": {
        "id": "ojyAze7L9Id0"
      }
    },
    {
      "cell_type": "code",
      "source": [
        "cars= ['bmw', 'mercedes', 'audi', 'tesla']\n",
        "cars.append(\"cc\")\n",
        "cars.pop(1)\n",
        "print (cars)"
      ],
      "metadata": {
        "colab": {
          "base_uri": "https://localhost:8080/"
        },
        "id": "vQUjyqJG9QhC",
        "outputId": "0c8db791-fe2c-4d63-a9e9-a9bb56de3dcc"
      },
      "execution_count": null,
      "outputs": [
        {
          "output_type": "stream",
          "name": "stdout",
          "text": [
            "['bmw', 'audi', 'tesla', 'cc']\n"
          ]
        }
      ]
    },
    {
      "cell_type": "code",
      "source": [
        "cars= ['bmw', 'mercedes', 'audi', 'tesla']\n",
        "bike=['duke', 'pulsar']\n",
        "cars.extend(bike)\n",
        "d= cars + bike\n",
        "d.remove(\"bmw\")\n",
        "print(d)"
      ],
      "metadata": {
        "colab": {
          "base_uri": "https://localhost:8080/"
        },
        "id": "EyJ7jBrr_CJl",
        "outputId": "344c0694-c546-4a6a-9b3b-d219a027e6e9"
      },
      "execution_count": null,
      "outputs": [
        {
          "output_type": "stream",
          "name": "stdout",
          "text": [
            "['mercedes', 'audi', 'tesla', 'duke', 'pulsar', 'duke', 'pulsar']\n"
          ]
        }
      ]
    },
    {
      "cell_type": "markdown",
      "source": [
        "sorting"
      ],
      "metadata": {
        "id": "4sYY68gTA1t_"
      }
    },
    {
      "cell_type": "code",
      "source": [
        "n=[33,6,5,0,44,-1]\n",
        "n.sort()\n",
        "n.sort(reverse=True)\n",
        "sorted(n)\n",
        "sorted(n reverse=True)\n",
        "print(n)"
      ],
      "metadata": {
        "colab": {
          "base_uri": "https://localhost:8080/"
        },
        "id": "2-l-RnTlA3Wf",
        "outputId": "76c45668-a67e-4653-d4f3-11616899a44d"
      },
      "execution_count": null,
      "outputs": [
        {
          "output_type": "stream",
          "name": "stdout",
          "text": [
            "[44, 33, 6, 5, 0, -1]\n"
          ]
        }
      ]
    },
    {
      "cell_type": "markdown",
      "source": [
        "List comprehenssion"
      ],
      "metadata": {
        "id": "07ut6z33DTU9"
      }
    },
    {
      "cell_type": "code",
      "source": [
        "n=[33,6,5,0,44,-1]\n",
        "sq=[]\n",
        "for item in n:\n",
        "     sq.append(item ** 2)\n",
        "\n"
      ],
      "metadata": {
        "id": "A3d-1_SsCweG"
      },
      "execution_count": null,
      "outputs": []
    },
    {
      "cell_type": "code",
      "source": [
        "n=[33,6,5,0,44,-1]\n",
        "[item ** 2 for item in n]"
      ],
      "metadata": {
        "colab": {
          "base_uri": "https://localhost:8080/"
        },
        "id": "TrZXZRe2DL3c",
        "outputId": "6c6ce548-2ba8-44ba-b4e2-96c84d522504"
      },
      "execution_count": null,
      "outputs": [
        {
          "output_type": "execute_result",
          "data": {
            "text/plain": [
              "[1089, 36, 25, 0, 1936, 1]"
            ]
          },
          "metadata": {},
          "execution_count": 40
        }
      ]
    },
    {
      "cell_type": "code",
      "source": [
        "x=[\"APPLE\", \"MANGO\", \"XX\"]\n",
        "[item.lower() for item in x]\n"
      ],
      "metadata": {
        "id": "oG-BywLQD1oN"
      },
      "execution_count": null,
      "outputs": []
    },
    {
      "cell_type": "code",
      "source": [
        "x=[\"APPLE\", \"MANGO\"]\n",
        "lower=[]\n",
        "for item in x:\n",
        "    lower.append(item.lower())\n",
        "print(lower)"
      ],
      "metadata": {
        "colab": {
          "base_uri": "https://localhost:8080/"
        },
        "id": "I6fk1Wr2EKTB",
        "outputId": "74c7601d-fcbd-4ebd-eba7-f1961d08d17d"
      },
      "execution_count": null,
      "outputs": [
        {
          "output_type": "stream",
          "name": "stdout",
          "text": [
            "['apple', 'mango']\n"
          ]
        }
      ]
    },
    {
      "cell_type": "code",
      "source": [
        "[item for item in range (-5,15) if item <=8]"
      ],
      "metadata": {
        "colab": {
          "base_uri": "https://localhost:8080/"
        },
        "id": "NCGuj8KsFHwx",
        "outputId": "e762b8ca-3150-432b-9f65-f461e4c76c80"
      },
      "execution_count": null,
      "outputs": [
        {
          "output_type": "execute_result",
          "data": {
            "text/plain": [
              "[-5, -4, -3, -2, -1, 0, 1, 2, 3, 4, 5, 6, 7, 8]"
            ]
          },
          "metadata": {},
          "execution_count": 45
        }
      ]
    },
    {
      "cell_type": "code",
      "source": [
        "[0 if item<=0 else item for item in range (-5,15) if item <=8]"
      ],
      "metadata": {
        "colab": {
          "base_uri": "https://localhost:8080/"
        },
        "id": "fbj_8PpoGBNZ",
        "outputId": "7796b466-dbf5-4a03-cca7-7205f5d42af1"
      },
      "execution_count": null,
      "outputs": [
        {
          "output_type": "execute_result",
          "data": {
            "text/plain": [
              "[0, 0, 0, 0, 0, 0, 1, 2, 3, 4, 5, 6, 7, 8]"
            ]
          },
          "metadata": {},
          "execution_count": 48
        }
      ]
    },
    {
      "cell_type": "markdown",
      "source": [
        "Tuple\n"
      ],
      "metadata": {
        "id": "H7o5706ZB43X"
      }
    },
    {
      "cell_type": "code",
      "source": [
        "t1=(\"apple\", \"banana\", \"cherry\")\n",
        "t2=(\"aa\", \"bb\")\n",
        "type(t1)\n",
        "x=list(t1)\n",
        "x[0]=\"xx\"\n",
        "d=tuple(x)\n",
        "t1=t1+t2\n",
        "print(d)\n",
        "print(t1)"
      ],
      "metadata": {
        "colab": {
          "base_uri": "https://localhost:8080/"
        },
        "id": "fAVP2sEfB74_",
        "outputId": "c62bc4ba-f963-40ee-ece9-f59b92d76ec2"
      },
      "execution_count": null,
      "outputs": [
        {
          "output_type": "stream",
          "name": "stdout",
          "text": [
            "('xx', 'banana', 'cherry')\n",
            "('apple', 'banana', 'cherry', 'aa', 'bb')\n"
          ]
        }
      ]
    },
    {
      "cell_type": "code",
      "source": [
        "input_data=[]\n",
        "for i in range(5):\n",
        "    input=int(input(\"enter no. \"))\n",
        "    input_data.append(input)"
      ],
      "metadata": {
        "id": "EZDyXGwBHrm6"
      },
      "execution_count": null,
      "outputs": []
    },
    {
      "cell_type": "markdown",
      "source": [
        "Set"
      ],
      "metadata": {
        "id": "dwidd2cRIMGX"
      }
    },
    {
      "cell_type": "code",
      "source": [
        "c={\"aa\", \"bb\", \"cc\"}\n",
        "c.remove(\"aa\")\n",
        "c.add(\"dd\")\n",
        "print(c)\n",
        "l=[1,2,4,7,6,2,10]\n",
        "q=set(l)\n",
        "print(q)\n",
        "l1={1,2,4,7,6,10}\n",
        "for item in l1:\n",
        " print(l1)\n",
        "    "
      ],
      "metadata": {
        "colab": {
          "base_uri": "https://localhost:8080/"
        },
        "id": "13kJ0jOrIQmn",
        "outputId": "4e4db4f2-2120-4877-83d5-7fcc092ab1d4"
      },
      "execution_count": null,
      "outputs": [
        {
          "output_type": "stream",
          "name": "stdout",
          "text": [
            "{'dd', 'bb', 'cc'}\n",
            "{1, 2, 4, 6, 7, 10}\n",
            "{1, 2, 4, 6, 7, 10}\n",
            "{1, 2, 4, 6, 7, 10}\n",
            "{1, 2, 4, 6, 7, 10}\n",
            "{1, 2, 4, 6, 7, 10}\n",
            "{1, 2, 4, 6, 7, 10}\n",
            "{1, 2, 4, 6, 7, 10}\n"
          ]
        }
      ]
    },
    {
      "cell_type": "markdown",
      "source": [
        "set operations"
      ],
      "metadata": {
        "id": "f2FNW9zuMErf"
      }
    },
    {
      "cell_type": "code",
      "source": [
        "A={\"aa\", \"bb\", \"cc\"}\n",
        "B={\"cc\", \"ee\", \"ff\"}\n",
        "A.union(B)\n",
        "B.intersection(A)\n",
        "A.difference(B)\n",
        "A-B\n",
        "B-A"
      ],
      "metadata": {
        "colab": {
          "base_uri": "https://localhost:8080/"
        },
        "id": "5PM82LCgMHHx",
        "outputId": "315ea641-3c19-442c-d712-d5c2a1028ba7"
      },
      "execution_count": null,
      "outputs": [
        {
          "output_type": "execute_result",
          "data": {
            "text/plain": [
              "{'ee', 'ff'}"
            ]
          },
          "metadata": {},
          "execution_count": 23
        }
      ]
    },
    {
      "cell_type": "markdown",
      "source": [
        "Frozen set is a version of python set"
      ],
      "metadata": {
        "id": "dHmP83imM4QY"
      }
    },
    {
      "cell_type": "markdown",
      "source": [
        "Functions\n"
      ],
      "metadata": {
        "id": "nUUWjTAeW3Jb"
      }
    },
    {
      "cell_type": "code",
      "source": [
        "def add(a,b):\n",
        "    c=a+b\n",
        "    print(\"total is {}\".format(c))\n",
        "    return c\n",
        "x= add(7,5)\n",
        "x=x*5\n",
        "print(x)\n",
        "\n",
        "    "
      ],
      "metadata": {
        "id": "iKZFC-4mM_cG",
        "colab": {
          "base_uri": "https://localhost:8080/"
        },
        "outputId": "dc579b1c-90fa-42ef-a3ca-34343160b5ae"
      },
      "execution_count": null,
      "outputs": [
        {
          "output_type": "stream",
          "name": "stdout",
          "text": [
            "total is 12\n",
            "60\n"
          ]
        }
      ]
    },
    {
      "cell_type": "code",
      "source": [
        "def greet (name,msg=\"good morning\")"
      ],
      "metadata": {
        "id": "F9OL-L-GWnXs"
      },
      "execution_count": null,
      "outputs": []
    },
    {
      "cell_type": "markdown",
      "source": [],
      "metadata": {
        "id": "9R__VHBMXoTh"
      }
    },
    {
      "cell_type": "code",
      "source": [
        "def sum (a, b):\n",
        "    global c \n",
        "    c=a +b\n",
        "    return c\n",
        "\n",
        "print(c)"
      ],
      "metadata": {
        "colab": {
          "base_uri": "https://localhost:8080/"
        },
        "id": "v6Lg9GtZX9DD",
        "outputId": "ea6452a6-44c2-4bd4-bb6f-edd704580733"
      },
      "execution_count": null,
      "outputs": [
        {
          "output_type": "stream",
          "name": "stdout",
          "text": [
            "11\n"
          ]
        }
      ]
    },
    {
      "cell_type": "code",
      "source": [
        "def sum (a, b):\n",
        "    global c \n",
        "    c=a + b\n",
        "    return c\n",
        "def sub():\n",
        "    print (c+5)\n",
        "total=sum(5,6)\n",
        "sub()"
      ],
      "metadata": {
        "colab": {
          "base_uri": "https://localhost:8080/"
        },
        "id": "Yb7Sdi2eZPZd",
        "outputId": "a590306b-2713-4207-ab30-cdc25f1fb0f2"
      },
      "execution_count": null,
      "outputs": [
        {
          "output_type": "stream",
          "name": "stdout",
          "text": [
            "16\n"
          ]
        }
      ]
    },
    {
      "cell_type": "code",
      "source": [
        "x=\"awesome\"\n",
        "def myf():\n",
        "    global x\n",
        "    x=\"fanta\"\n",
        "print(x)\n",
        "myf()\n",
        "print (\"python is \" + x)   "
      ],
      "metadata": {
        "colab": {
          "base_uri": "https://localhost:8080/"
        },
        "id": "iD-hsSrRaqlF",
        "outputId": "0464a170-c32b-4b59-a538-3482b0ce85d0"
      },
      "execution_count": null,
      "outputs": [
        {
          "output_type": "stream",
          "name": "stdout",
          "text": [
            "awesome\n",
            "python is awesome\n"
          ]
        }
      ]
    },
    {
      "cell_type": "code",
      "source": [
        "l"
      ],
      "metadata": {
        "id": "t80JAONrd8L8"
      },
      "execution_count": null,
      "outputs": []
    },
    {
      "cell_type": "markdown",
      "source": [
        "# args and kwargs special keywords\n",
        "args single star, tuple\n",
        "kwargs double star, dictionary"
      ],
      "metadata": {
        "id": "c1drCmeecxsl"
      }
    },
    {
      "cell_type": "code",
      "source": [
        "def add (a,b):\n",
        "    c=a+b\n",
        "    return a, b, c\n",
        "add (4,5)\n",
        "n1, n2, sum =add(4,5)\n",
        "print (n1)"
      ],
      "metadata": {
        "colab": {
          "base_uri": "https://localhost:8080/"
        },
        "id": "Lw3yvl0ebH6f",
        "outputId": "058b9265-592e-4457-f5db-70fda016b965"
      },
      "execution_count": null,
      "outputs": [
        {
          "output_type": "stream",
          "name": "stdout",
          "text": [
            "4\n"
          ]
        }
      ]
    },
    {
      "cell_type": "code",
      "source": [
        "x= int (input(\"enter no.\"))\n",
        "def prime():\n",
        "    for i in range (2,x):\n",
        "         if x%i is 0:\n",
        "            print (\"true\")\n",
        "         else:\n",
        "           print(\"false\")   \n",
        "    "
      ],
      "metadata": {
        "colab": {
          "base_uri": "https://localhost:8080/"
        },
        "id": "-GDL7vNSgyiH",
        "outputId": "6060d9be-4b49-4ce1-b2fb-d9335b728992"
      },
      "execution_count": null,
      "outputs": [
        {
          "name": "stdout",
          "output_type": "stream",
          "text": [
            "enter no.3\n"
          ]
        }
      ]
    },
    {
      "cell_type": "code",
      "source": [
        "def factorial (num):\n",
        "    fact=1\n",
        "    for index in range (1,num+1):\n",
        "        fact=fact*index\n",
        "    return fact\n",
        "factorial (5)"
      ],
      "metadata": {
        "colab": {
          "base_uri": "https://localhost:8080/"
        },
        "id": "YN5sqHB0xiql",
        "outputId": "b914dce5-6141-4f58-b07c-09342e4f0dab"
      },
      "execution_count": null,
      "outputs": [
        {
          "output_type": "execute_result",
          "data": {
            "text/plain": [
              "120"
            ]
          },
          "metadata": {},
          "execution_count": 2
        }
      ]
    },
    {
      "cell_type": "markdown",
      "source": [
        "recurssion"
      ],
      "metadata": {
        "id": "_A5WWLw5ylOO"
      }
    },
    {
      "cell_type": "code",
      "source": [
        "def fact(num):\n",
        "    if num==0 or num==1:\n",
        "       return 1\n",
        "    else:\n",
        "       return num*fact(num-1)\n",
        "fact(5)"
      ],
      "metadata": {
        "colab": {
          "base_uri": "https://localhost:8080/"
        },
        "id": "WL1SlcsCypJL",
        "outputId": "d678efc6-9eae-452f-bc9c-9bbaa740b541"
      },
      "execution_count": null,
      "outputs": [
        {
          "output_type": "execute_result",
          "data": {
            "text/plain": [
              "120"
            ]
          },
          "metadata": {},
          "execution_count": 3
        }
      ]
    },
    {
      "cell_type": "markdown",
      "source": [
        "pass= placeholder "
      ],
      "metadata": {
        "id": "54dcLg9o0twc"
      }
    },
    {
      "cell_type": "markdown",
      "source": [
        "OOP in pyton"
      ],
      "metadata": {
        "id": "_KTCX0aU1zRt"
      }
    },
    {
      "cell_type": "code",
      "source": [
        "class person:\n",
        "  pass\n",
        "obj=person()\n",
        "obj\n",
        "print(type(obj))\n"
      ],
      "metadata": {
        "id": "XQ6PC6-x0yWs"
      },
      "execution_count": null,
      "outputs": []
    },
    {
      "cell_type": "code",
      "source": [
        "class flex:\n",
        "     raw=\"plastic\" #class attribute\n",
        "     def __init__(self,color): #obj attr initlizer\n",
        "        self.color=color #obj attr\n",
        "redflex=flex(\"red\")\n",
        "redflex.raw\n",
        "whiteflex=flex(\"white\")\n",
        "whiteflex.color\n",
        "whiteflex.raw"
      ],
      "metadata": {
        "colab": {
          "base_uri": "https://localhost:8080/",
          "height": 35
        },
        "id": "upssDSqN4OTu",
        "outputId": "bfea2540-b27a-4c82-afd3-029f8ced6b77"
      },
      "execution_count": null,
      "outputs": [
        {
          "output_type": "execute_result",
          "data": {
            "text/plain": [
              "'plastic'"
            ],
            "application/vnd.google.colaboratory.intrinsic+json": {
              "type": "string"
            }
          },
          "metadata": {},
          "execution_count": 4
        }
      ]
    },
    {
      "cell_type": "code",
      "source": [
        "class flex:\n",
        "     raw=\"plastic\" #class attribute\n",
        "     def __init__(self,color): #obj attr initlizer\n",
        "        self.color=color #obj attr\n",
        "     def display_color(self): #user defined method of a class\n",
        "        print(self.color)\n",
        "white=flex('white')\n",
        "white.display_color()"
      ],
      "metadata": {
        "colab": {
          "base_uri": "https://localhost:8080/"
        },
        "id": "yq1q_rG87_kS",
        "outputId": "66a1478c-851c-48ad-af11-2b2887e019c9"
      },
      "execution_count": null,
      "outputs": [
        {
          "output_type": "stream",
          "name": "stdout",
          "text": [
            "white\n"
          ]
        }
      ]
    },
    {
      "cell_type": "markdown",
      "source": [
        "inheritance"
      ],
      "metadata": {
        "id": "yi9SXzn695Nb"
      }
    },
    {
      "cell_type": "code",
      "source": [
        "class A:\n",
        "    word=\"Apple\"\n",
        "class B:\n",
        "    words=\"Ball\"\n",
        "obj=B()\n",
        "obj.words"
      ],
      "metadata": {
        "colab": {
          "base_uri": "https://localhost:8080/",
          "height": 35
        },
        "id": "sLBwOLsF98h2",
        "outputId": "3616085d-ae5d-44b5-a46c-7df440f9e4ab"
      },
      "execution_count": null,
      "outputs": [
        {
          "output_type": "execute_result",
          "data": {
            "text/plain": [
              "'Ball'"
            ],
            "application/vnd.google.colaboratory.intrinsic+json": {
              "type": "string"
            }
          },
          "metadata": {},
          "execution_count": 10
        }
      ]
    },
    {
      "cell_type": "code",
      "source": [
        "class A:\n",
        "    word=\"Apple\"\n",
        "class B(A):\n",
        "    words=\"Ball\"\n",
        "    def __init__(self):\n",
        "      super().__init__() #single inheritance\n",
        "obj=B()\n",
        "obj.word"
      ],
      "metadata": {
        "colab": {
          "base_uri": "https://localhost:8080/",
          "height": 35
        },
        "id": "cfPrryQp-8Wj",
        "outputId": "c76edc79-8613-4dff-de5d-c35c1d3841c8"
      },
      "execution_count": null,
      "outputs": [
        {
          "output_type": "execute_result",
          "data": {
            "text/plain": [
              "'Apple'"
            ],
            "application/vnd.google.colaboratory.intrinsic+json": {
              "type": "string"
            }
          },
          "metadata": {},
          "execution_count": 11
        }
      ]
    },
    {
      "cell_type": "code",
      "source": [
        "class comp:\n",
        "  def __init__(self,ram,cpu):\n",
        "      self.ram=ram\n",
        "      self.cpu=cpu\n",
        "class mobile(comp):\n",
        "  def __init__(self,ram,camera,cpu):\n",
        "       self.camer=camera\n",
        "       super().__init__(ram,cpu)\n",
        "m=mobile(108,8,4)\n",
        "m.ram"
      ],
      "metadata": {
        "colab": {
          "base_uri": "https://localhost:8080/"
        },
        "id": "QFYaZoSeAEgu",
        "outputId": "c9b4bc9a-22af-40c2-8624-a7f69a71f0ef"
      },
      "execution_count": null,
      "outputs": [
        {
          "output_type": "execute_result",
          "data": {
            "text/plain": [
              "108"
            ]
          },
          "metadata": {},
          "execution_count": 15
        }
      ]
    },
    {
      "cell_type": "markdown",
      "source": [
        "Multiple Inheritance"
      ],
      "metadata": {
        "id": "JEkK52p26tiW"
      }
    },
    {
      "cell_type": "code",
      "source": [
        "class father:\n",
        "      def __init__(self, fathername):\n",
        "          self.fathername= fathername\n",
        "class mother:\n",
        "       def __init__(self, mothername):\n",
        "          self.mothername= mothername\n",
        "class child (father, mother):\n",
        "      def __init__(self, childname, fathername, mothername):\n",
        "          self.childname=childname\n",
        "          father. __init__(self, fathername)\n",
        "          mother. __init__(self, mothername) \n",
        "      def family (self):\n",
        "          print(\" \", self.fathername)\n",
        "          print(\" \", self.mothername)\n",
        "          print(\" \", self.childname)\n",
        "\n",
        "c=child(\"ll\", \"ram\", \"sita\")\n",
        "c.fathername\n",
        "c.family()\n"
      ],
      "metadata": {
        "colab": {
          "base_uri": "https://localhost:8080/"
        },
        "id": "yfLTtEmk6woc",
        "outputId": "7e00fd73-d91b-4faf-bf59-4a64a7738228"
      },
      "execution_count": null,
      "outputs": [
        {
          "output_type": "stream",
          "name": "stdout",
          "text": [
            "  ram\n",
            "  sita\n",
            "  ll\n"
          ]
        }
      ]
    },
    {
      "cell_type": "code",
      "source": [
        "class Grandfather:\n",
        "      gname=\"das\"\n",
        "class Father(Grandfather):\n",
        "      fname=\"Ram\"\n",
        "      def __init__(self):\n",
        "          super().__init__()\n",
        "class Child (Father):\n",
        "      def __init__(self, name):\n",
        "          self.name=name\n",
        "          Father.__init__(self)\n",
        "c=Child(\"lov\")\n",
        "c.gname\n"
      ],
      "metadata": {
        "colab": {
          "base_uri": "https://localhost:8080/",
          "height": 35
        },
        "id": "yUzfovn7_5pe",
        "outputId": "e8ba4a5c-9ceb-495d-c6d4-254d26f312e2"
      },
      "execution_count": null,
      "outputs": [
        {
          "output_type": "execute_result",
          "data": {
            "text/plain": [
              "'das'"
            ],
            "application/vnd.google.colaboratory.intrinsic+json": {
              "type": "string"
            }
          },
          "metadata": {},
          "execution_count": 6
        }
      ]
    },
    {
      "cell_type": "markdown",
      "source": [
        "Access specifier= private, public and protected"
      ],
      "metadata": {
        "id": "HQd8UBRgDAcd"
      }
    },
    {
      "cell_type": "code",
      "source": [
        "class account:\n",
        "     def __init__(self, name, bal):\n",
        "         self.name=name\n",
        "         self.bal=bal\n",
        "     def __add__(self, otherobj):\n",
        "         print(self.bal + otherobj.bal)\n",
        "\n",
        "a1=account (\"rr\", 77888)\n",
        "a2=account (\"vv\", 00900)\n",
        "a1+a2\n"
      ],
      "metadata": {
        "id": "jDIUwMOqB9St"
      },
      "execution_count": null,
      "outputs": []
    },
    {
      "cell_type": "markdown",
      "source": [],
      "metadata": {
        "id": "C0P37WOnB8k1"
      }
    },
    {
      "cell_type": "markdown",
      "source": [],
      "metadata": {
        "id": "YaLageFVG-2f"
      }
    },
    {
      "cell_type": "code",
      "source": [
        "import sqlite3\n",
        "con = sqlite3.connect(\"student.db\")\n",
        "cur= con.cursor()\n",
        "query=\"\"\" \n",
        "create table students(roll_no int not null, name, gender)\n",
        "\"\"\"\n",
        "cur.execute(query)\n",
        "\n"
      ],
      "metadata": {
        "id": "r-YW3d0BG-YD"
      },
      "execution_count": null,
      "outputs": []
    },
    {
      "cell_type": "code",
      "source": [
        "insert_query=\"\"\"\n",
        "insert into students(roll_no, name, gender)\n",
        "values\n",
        "(1, 'stark', 'M'),\n",
        "(2, 'Snoop', 'M'),\n",
        "(3, 'Arya', 'F')\n",
        "\"\"\"\n",
        "cur.execute(insert_query)\n"
      ],
      "metadata": {
        "colab": {
          "base_uri": "https://localhost:8080/"
        },
        "id": "AqtgDoRZT63x",
        "outputId": "5e241a50-b6ba-4889-f3f8-2fb750aa9565"
      },
      "execution_count": null,
      "outputs": [
        {
          "output_type": "execute_result",
          "data": {
            "text/plain": [
              "<sqlite3.Cursor at 0x7fb49c0de880>"
            ]
          },
          "metadata": {},
          "execution_count": 7
        }
      ]
    },
    {
      "cell_type": "markdown",
      "source": [
        "SELECT"
      ],
      "metadata": {
        "id": "ra4NiZ8iXY9Y"
      }
    },
    {
      "cell_type": "code",
      "source": [
        "\n",
        "read_query= \"\"\"\n",
        "select * from students\n",
        "\"\"\"\n",
        "cur.execute(read_query).fetchall()\n"
      ],
      "metadata": {
        "colab": {
          "base_uri": "https://localhost:8080/"
        },
        "id": "TikXXCc1VgYR",
        "outputId": "e40893b6-2f1a-4f32-ea40-bbee9a66496e"
      },
      "execution_count": null,
      "outputs": [
        {
          "output_type": "execute_result",
          "data": {
            "text/plain": [
              "[(1, 'stark', 'M'), (2, 'Snoop', 'M'), (3, 'Arya', 'F')]"
            ]
          },
          "metadata": {},
          "execution_count": 11
        }
      ]
    },
    {
      "cell_type": "code",
      "source": [
        "cur.execute(\"select * from students where gender='F' \").fetchall()"
      ],
      "metadata": {
        "colab": {
          "base_uri": "https://localhost:8080/"
        },
        "id": "r-a355dXWggh",
        "outputId": "6aa0ab6b-c574-4810-9548-01b1f36733c6"
      },
      "execution_count": null,
      "outputs": [
        {
          "output_type": "execute_result",
          "data": {
            "text/plain": [
              "[(3, 'Arya', 'F')]"
            ]
          },
          "metadata": {},
          "execution_count": 12
        }
      ]
    },
    {
      "cell_type": "markdown",
      "source": [
        "UPDATE"
      ],
      "metadata": {
        "id": "mmM3XLU5XaZw"
      }
    },
    {
      "cell_type": "code",
      "source": [
        "update_query= \"\"\"\n",
        "update students\n",
        "set name='Snoop Dogg'\n",
        "where\n",
        "roll_no=2\n",
        "\"\"\"\n",
        "cur.execute(update_query)"
      ],
      "metadata": {
        "colab": {
          "base_uri": "https://localhost:8080/"
        },
        "id": "KxmAY1IrXPhY",
        "outputId": "cb7ab39d-bed4-406a-e7a4-d87edfadae1b"
      },
      "execution_count": null,
      "outputs": [
        {
          "output_type": "execute_result",
          "data": {
            "text/plain": [
              "<sqlite3.Cursor at 0x7fb49c0de880>"
            ]
          },
          "metadata": {},
          "execution_count": 13
        }
      ]
    },
    {
      "cell_type": "code",
      "source": [
        "\n",
        "cur.execute(read_query).fetchall()"
      ],
      "metadata": {
        "colab": {
          "base_uri": "https://localhost:8080/"
        },
        "id": "PJ-TZVN9X_gd",
        "outputId": "f82eedbb-3df4-4985-8dc8-672b28183035"
      },
      "execution_count": null,
      "outputs": [
        {
          "output_type": "execute_result",
          "data": {
            "text/plain": [
              "[(1, 'stark', 'M'), (2, 'Snoop Dogg', 'M'), (3, 'Arya', 'F')]"
            ]
          },
          "metadata": {},
          "execution_count": 14
        }
      ]
    },
    {
      "cell_type": "markdown",
      "source": [
        "DELETE"
      ],
      "metadata": {
        "id": "rf9euAYiYxs4"
      }
    },
    {
      "cell_type": "code",
      "source": [
        "delete_query=\"delete from students where roll_no=2\"\n",
        "cur.execute(delete_query)"
      ],
      "metadata": {
        "colab": {
          "base_uri": "https://localhost:8080/"
        },
        "id": "S-r9emgLYznx",
        "outputId": "b76ce060-2090-4270-a9d8-5ea265b4cb6b"
      },
      "execution_count": null,
      "outputs": [
        {
          "output_type": "execute_result",
          "data": {
            "text/plain": [
              "<sqlite3.Cursor at 0x7fb49c0de880>"
            ]
          },
          "metadata": {},
          "execution_count": 15
        }
      ]
    },
    {
      "cell_type": "code",
      "source": [
        "read_query= \"\"\"\n",
        "select * from students\n",
        "\"\"\"\n",
        "cur.execute(read_query).fetchall()"
      ],
      "metadata": {
        "colab": {
          "base_uri": "https://localhost:8080/"
        },
        "id": "Py7TvtgXZe3Z",
        "outputId": "e1fa42b8-42fe-4ba7-cc52-a3a6591e19a0"
      },
      "execution_count": null,
      "outputs": [
        {
          "output_type": "execute_result",
          "data": {
            "text/plain": [
              "[(1, 'stark', 'M'), (3, 'Arya', 'F')]"
            ]
          },
          "metadata": {},
          "execution_count": 16
        }
      ]
    }
  ]
}